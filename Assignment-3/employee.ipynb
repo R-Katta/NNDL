{
  "nbformat": 4,
  "nbformat_minor": 0,
  "metadata": {
    "colab": {
      "provenance": []
    },
    "kernelspec": {
      "name": "python3",
      "display_name": "Python 3"
    },
    "language_info": {
      "name": "python"
    }
  },
  "cells": [
    {
      "cell_type": "code",
      "execution_count": 1,
      "metadata": {
        "id": "3DBlvf1ro8bV"
      },
      "outputs": [],
      "source": [
        "class Employee:\n",
        "    employee_count = 0  # Class variable to count the number of Employees\n",
        "    total_salary = 0  # Class variable to store the total salary for calculating the average\n",
        "\n",
        "    def __init__(self, name, family, salary, department):\n",
        "        self.name = name\n",
        "        self.family = family\n",
        "        self.salary = salary\n",
        "        self.department = department\n",
        "\n",
        "        # Update class variables\n",
        "        Employee.employee_count += 1\n",
        "        Employee.total_salary += self.salary\n",
        "\n",
        "    @classmethod\n",
        "    def average_salary(cls):\n",
        "        if cls.employee_count == 0:\n",
        "            return 0\n",
        "        return cls.total_salary / cls.employee_count\n",
        "\n"
      ]
    },
    {
      "cell_type": "code",
      "source": [
        "class FullTimeEmployee(Employee):\n",
        "    # Inherits all properties and methods from Employee\n",
        "    def __init__(self, name, family, salary, department):\n",
        "        super().__init__(name, family, salary, department)\n",
        "\n",
        "# Create instances of Employee and FullTimeEmployee\n",
        "employee1 = Employee(\"Alice\", \"Smith\", 50000, \"Engineering\")\n",
        "employee2 = Employee(\"Bob\", \"Johnson\", 60000, \"Finance\")\n",
        "fulltime_employee1 = FullTimeEmployee(\"Charlie\", \"Brown\", 70000, \"HR\")\n",
        "\n",
        "# Call member functions\n",
        "print(f\"Total number of employees: {Employee.employee_count}\")\n",
        "print(f\"Average salary of employees: {Employee.average_salary()}\")\n"
      ],
      "metadata": {
        "colab": {
          "base_uri": "https://localhost:8080/"
        },
        "id": "4eVrke0jpm33",
        "outputId": "71f408bd-7b93-428d-b7fe-ad84969db943"
      },
      "execution_count": 2,
      "outputs": [
        {
          "output_type": "stream",
          "name": "stdout",
          "text": [
            "Total number of employees: 3\n",
            "Average salary of employees: 60000.0\n"
          ]
        }
      ]
    }
  ]
}