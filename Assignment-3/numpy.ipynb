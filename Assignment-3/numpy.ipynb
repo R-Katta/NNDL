{
  "nbformat": 4,
  "nbformat_minor": 0,
  "metadata": {
    "colab": {
      "provenance": []
    },
    "kernelspec": {
      "name": "python3",
      "display_name": "Python 3"
    },
    "language_info": {
      "name": "python"
    }
  },
  "cells": [
    {
      "cell_type": "code",
      "execution_count": 1,
      "metadata": {
        "id": "4il2WQ4skVHW"
      },
      "outputs": [],
      "source": [
        "import numpy as np\n"
      ]
    },
    {
      "cell_type": "code",
      "source": [
        "random_vector = np.random.uniform(1, 20, size=20)\n",
        "random_vector_copy = random_vector.copy()\n",
        "reshaped_array = random_vector_copy.reshape(4, 5)\n"
      ],
      "metadata": {
        "id": "MMgC5jqJka0L"
      },
      "execution_count": 2,
      "outputs": []
    },
    {
      "cell_type": "code",
      "source": [
        "reshaped_array[np.arange(reshaped_array.shape[0]), reshaped_array.argmax(axis=1)] = 0\n"
      ],
      "metadata": {
        "id": "c_jSLsnkkiiR"
      },
      "execution_count": 3,
      "outputs": []
    },
    {
      "cell_type": "code",
      "source": [
        "print(\"Original random vector:\")\n",
        "print(random_vector)\n",
        "print(\"\\nReshaped array:\")\n",
        "print(reshaped_array)"
      ],
      "metadata": {
        "colab": {
          "base_uri": "https://localhost:8080/"
        },
        "id": "QwL73_iPklqe",
        "outputId": "824ccf8c-2dea-4dd1-f207-d4191910b7b7"
      },
      "execution_count": 4,
      "outputs": [
        {
          "output_type": "stream",
          "name": "stdout",
          "text": [
            "Original random vector:\n",
            "[ 8.38728019 13.13552632  5.88246121  8.95036928 19.25582097  1.8972306\n",
            " 16.35554671  8.77295989  7.67423883 19.80389746 13.03664705 14.33889077\n",
            " 14.59743549 17.64812714 19.05134515  7.47036189  8.39628278 10.29482571\n",
            " 10.25832694 14.23813318]\n",
            "\n",
            "Reshaped array:\n",
            "[[ 8.38728019 13.13552632  5.88246121  8.95036928  0.        ]\n",
            " [ 1.8972306  16.35554671  8.77295989  7.67423883  0.        ]\n",
            " [13.03664705 14.33889077 14.59743549 17.64812714  0.        ]\n",
            " [ 7.47036189  8.39628278 10.29482571 10.25832694  0.        ]]\n"
          ]
        }
      ]
    }
  ]
}