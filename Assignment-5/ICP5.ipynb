{
  "nbformat": 4,
  "nbformat_minor": 0,
  "metadata": {
    "colab": {
      "provenance": []
    },
    "kernelspec": {
      "name": "python3",
      "display_name": "Python 3"
    },
    "language_info": {
      "name": "python"
    }
  },
  "cells": [
    {
      "cell_type": "code",
      "execution_count": 34,
      "metadata": {
        "id": "DbFPYn56UvaS"
      },
      "outputs": [],
      "source": [
        "from sklearn.model_selection import train_test_split\n",
        "from sklearn.naive_bayes import GaussianNB\n",
        "from sklearn.metrics import classification_report\n",
        "import pandas as pd\n",
        "import warnings\n",
        "warnings.filterwarnings(\"ignore\", category=DeprecationWarning)\n",
        "from sklearn.exceptions import UndefinedMetricWarning\n",
        "warnings.filterwarnings(\"ignore\", category=UndefinedMetricWarning)\n",
        "\n",
        "\n",
        "from sklearn.svm import SVC\n"
      ]
    },
    {
      "cell_type": "code",
      "source": [
        "from google.colab import drive\n",
        "drive.mount('/content/gdrive')"
      ],
      "metadata": {
        "colab": {
          "base_uri": "https://localhost:8080/"
        },
        "id": "jQwS1hb_VsFQ",
        "outputId": "346d88e4-a96f-4b2f-dba0-f82831f20f7f"
      },
      "execution_count": 2,
      "outputs": [
        {
          "output_type": "stream",
          "name": "stdout",
          "text": [
            "Mounted at /content/gdrive\n"
          ]
        }
      ]
    },
    {
      "cell_type": "code",
      "source": [
        "DF=pd.read_csv('/content/gdrive/MyDrive/neural network/glass.csv')\n"
      ],
      "metadata": {
        "id": "nGvw8PP3WMP6"
      },
      "execution_count": 5,
      "outputs": []
    },
    {
      "cell_type": "code",
      "source": [
        "X = DF.drop('Type', axis=1)\n",
        "y = DF['Type']\n",
        "\n",
        "X_train, X_test, y_train, y_test = train_test_split(X, y, test_size=0.2, random_state=42)\n",
        "\n",
        "X_train.shape, X_test.shape"
      ],
      "metadata": {
        "colab": {
          "base_uri": "https://localhost:8080/"
        },
        "id": "R741U9f2Xu3A",
        "outputId": "e8f81f71-3a32-470b-8be0-68e3b9f7f23d"
      },
      "execution_count": 6,
      "outputs": [
        {
          "output_type": "execute_result",
          "data": {
            "text/plain": [
              "((171, 9), (43, 9))"
            ]
          },
          "metadata": {},
          "execution_count": 6
        }
      ]
    },
    {
      "cell_type": "markdown",
      "source": [
        "### Task 1 NaiveBayse Model"
      ],
      "metadata": {
        "id": "Us0UyjuqZcx4"
      }
    },
    {
      "cell_type": "code",
      "source": [
        "model = GaussianNB()\n",
        "result=model.fit(X_train, y_train)\n",
        "y_pred = model.predict(X_test)\n"
      ],
      "metadata": {
        "id": "Om4BLoc2X54H"
      },
      "execution_count": 10,
      "outputs": []
    },
    {
      "cell_type": "code",
      "source": [
        "accuracy = model.score(X_test, y_test)\n",
        "print(\"Accuracy of the NaiveBayse Model is : {:.0f}%\".format(accuracy * 100))\n"
      ],
      "metadata": {
        "colab": {
          "base_uri": "https://localhost:8080/"
        },
        "id": "XOCoviAQYZhH",
        "outputId": "798bf25d-f35c-4476-9f1a-92bc111e4c3c"
      },
      "execution_count": 14,
      "outputs": [
        {
          "output_type": "stream",
          "name": "stdout",
          "text": [
            "Accuracy of the NaiveBaise Model is : 56%\n"
          ]
        }
      ]
    },
    {
      "cell_type": "code",
      "source": [
        "report = classification_report(y_test, y_pred)\n",
        "print(\"Report of the NaiveBayse is \\n\"+ report)\n"
      ],
      "metadata": {
        "colab": {
          "base_uri": "https://localhost:8080/"
        },
        "id": "iCoKwJ9VYom7",
        "outputId": "76c55ffb-7369-4139-cc7c-1ddb2feffbb5"
      },
      "execution_count": 18,
      "outputs": [
        {
          "output_type": "stream",
          "name": "stdout",
          "text": [
            "Report of the NaiveBayse is \n",
            "              precision    recall  f1-score   support\n",
            "\n",
            "           1       0.41      0.64      0.50        11\n",
            "           2       0.43      0.21      0.29        14\n",
            "           3       0.40      0.67      0.50         3\n",
            "           5       0.50      0.25      0.33         4\n",
            "           6       1.00      1.00      1.00         3\n",
            "           7       0.89      1.00      0.94         8\n",
            "\n",
            "    accuracy                           0.56        43\n",
            "   macro avg       0.60      0.63      0.59        43\n",
            "weighted avg       0.55      0.56      0.53        43\n",
            "\n"
          ]
        }
      ]
    },
    {
      "cell_type": "markdown",
      "source": [
        "### Task 2: linear SVM"
      ],
      "metadata": {
        "id": "qAmS94CZZkxs"
      }
    },
    {
      "cell_type": "code",
      "source": [
        "model2 = SVC(kernel='linear', random_state=42)\n",
        "model2.fit(X_train, y_train)\n"
      ],
      "metadata": {
        "id": "uGs37x8dZuoD"
      },
      "execution_count": null,
      "outputs": []
    },
    {
      "cell_type": "code",
      "source": [
        "acc2=model2.score(X_test, y_test)\n",
        "print(\"Accuracy of the linear SVM  Model is : {:.0f}%\".format(acc2 * 100))"
      ],
      "metadata": {
        "colab": {
          "base_uri": "https://localhost:8080/"
        },
        "id": "dn3LBmrAZ-Qn",
        "outputId": "c180c252-6545-4416-a617-abceacd8778f"
      },
      "execution_count": 26,
      "outputs": [
        {
          "output_type": "stream",
          "name": "stdout",
          "text": [
            "Accuracy of the linear SVM  Model is : 74%\n"
          ]
        }
      ]
    },
    {
      "cell_type": "code",
      "source": [
        "y_pred_svm = model2.predict(X_test)\n",
        "report2 = classification_report(y_test, y_pred_svm)\n",
        "print(\"Report of the linear SVM is \\n\"+ report2)"
      ],
      "metadata": {
        "colab": {
          "base_uri": "https://localhost:8080/"
        },
        "id": "Hbhz9rCRarvn",
        "outputId": "20e0fced-479e-4860-90b1-50120d5260d3"
      },
      "execution_count": 35,
      "outputs": [
        {
          "output_type": "stream",
          "name": "stdout",
          "text": [
            "Report of the linear SVM is \n",
            "              precision    recall  f1-score   support\n",
            "\n",
            "           1       0.69      0.82      0.75        11\n",
            "           2       0.67      0.71      0.69        14\n",
            "           3       0.00      0.00      0.00         3\n",
            "           5       0.80      1.00      0.89         4\n",
            "           6       1.00      0.67      0.80         3\n",
            "           7       0.88      0.88      0.88         8\n",
            "\n",
            "    accuracy                           0.74        43\n",
            "   macro avg       0.67      0.68      0.67        43\n",
            "weighted avg       0.70      0.74      0.72        43\n",
            "\n"
          ]
        }
      ]
    }
  ]
}